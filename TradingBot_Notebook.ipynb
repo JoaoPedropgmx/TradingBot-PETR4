{
  "nbformat": 4,
  "nbformat_minor": 0,
  "metadata": {
    "colab": {
      "provenance": []
    },
    "kernelspec": {
      "name": "python3",
      "display_name": "Python 3"
    },
    "language_info": {
      "name": "python"
    }
  },
  "cells": [
    {
      "cell_type": "code",
      "execution_count": null,
      "metadata": {
        "id": "kRW5K0wv3hL8"
      },
      "outputs": [],
      "source": [
        "!pip install yfinance\n",
        "!pip install python-telegram-bot\n",
        "!pip install nest_asyncio"
      ]
    },
    {
      "cell_type": "code",
      "source": [
        "#Importando Bibliotecas\n",
        "import yfinance as yf\n",
        "import pandas as pd\n",
        "import numpy as np\n",
        "\n"
      ],
      "metadata": {
        "id": "WBi2d-uu6oov"
      },
      "execution_count": 283,
      "outputs": []
    },
    {
      "cell_type": "code",
      "source": [
        "Petr = yf.Ticker('PETR4.SA')\n",
        "Petr_dia = Petr.history(period='1d',interval='15m')\n",
        "Petr_dia = Petr_dia.Close\n",
        "df_Petr_dia = pd.DataFrame(Petr_dia)\n",
        "df_Petr_dia.reset_index(inplace=True)\n"
      ],
      "metadata": {
        "id": "iZ4ybZfD67id"
      },
      "execution_count": 284,
      "outputs": []
    },
    {
      "cell_type": "code",
      "source": [
        "# Pegando ultimo valor negociado\n",
        "Petr_ultimo_preco = df_Petr_dia.tail(1)\n"
      ],
      "metadata": {
        "id": "4Vf8mbGg-DyH"
      },
      "execution_count": 285,
      "outputs": []
    },
    {
      "cell_type": "code",
      "source": [
        "#Renomeando Colunas\n",
        "Petr_ultimo_preco.rename(columns={'Datetime':'Data','Close':'Preço_Fechamento'}, inplace=True)"
      ],
      "metadata": {
        "id": "jdPrEa4o-dg_"
      },
      "execution_count": null,
      "outputs": []
    },
    {
      "cell_type": "code",
      "source": [
        "# Histórico de ações PETR4 nos ultimos 30 dias\n",
        "df = pd.read_csv('PETR4.SA.csv',delimiter=',')\n",
        "df_Petr4 = df[['Date','Close']]\n",
        "df_Petr4.rename(columns={'Date':'Data','Close':'Preço_Fechamento'}, inplace=True)\n"
      ],
      "metadata": {
        "id": "c9wdAKIp_aw0"
      },
      "execution_count": 287,
      "outputs": []
    },
    {
      "cell_type": "code",
      "source": [
        "#Ajustando o tipo da data\n",
        "df_Petr4.loc[:,('Data')]=pd.to_datetime(df_Petr4.loc[:,('Data')], format='%Y-%m-%d')\n"
      ],
      "metadata": {
        "id": "hryv_SOHEura"
      },
      "execution_count": null,
      "outputs": []
    },
    {
      "cell_type": "code",
      "source": [
        "#Atualização de datas\n",
        "df_att = df_Petr4.loc[(df_Petr4['Data']==pd.to_datetime('today').normalize())]\n",
        "df_Petr4 = df_Petr4.drop(df_att.index)"
      ],
      "metadata": {
        "id": "o8xeazefFmp5"
      },
      "execution_count": 289,
      "outputs": []
    },
    {
      "cell_type": "code",
      "source": [
        "#Adicionando data atual ao histórico\n",
        "df_Petr_total = df_Petr4.append(Petr_ultimo_preco)\n"
      ],
      "metadata": {
        "id": "qj4yCMPNIA01"
      },
      "execution_count": 290,
      "outputs": []
    },
    {
      "cell_type": "code",
      "source": [
        "df_Petr_total['Data']=pd.to_datetime(df_Petr_total['Data'], utc=True).dt.date"
      ],
      "metadata": {
        "id": "V5f0cNzZNNqa"
      },
      "execution_count": 291,
      "outputs": []
    },
    {
      "cell_type": "code",
      "source": [
        "#Calculo Macd\n",
        "\n",
        "RapidaMME = df_Petr_total.Preço_Fechamento.ewm(span=12).mean()\n",
        "LentaMME = df_Petr_total.Preço_Fechamento.ewm(span=26).mean()\n",
        "\n",
        "Macd = RapidaMME - LentaMME\n",
        "sinal = Macd.ewm(span=9).mean()\n",
        "\n",
        "df_Petr_total['Macd'] = Macd\n",
        "df_Petr_total['Sinal'] = sinal\n"
      ],
      "metadata": {
        "id": "dwRvhdR_ON0Y"
      },
      "execution_count": 292,
      "outputs": []
    },
    {
      "cell_type": "code",
      "source": [
        "#Ajuster de index e retirada de data\n",
        "\n",
        "df_Petr_total = df_Petr_total.set_index(pd.DatetimeIndex(df_Petr_total['Data'].values))\n",
        "df_Petr_total = df_Petr_total.drop('Data',1)\n"
      ],
      "metadata": {
        "id": "DKil55aKSgIg"
      },
      "execution_count": null,
      "outputs": []
    },
    {
      "cell_type": "code",
      "source": [
        "#Verificação de compra ou venda\n",
        "df_Petr_total['Flag']=''\n",
        "df_Petr_total['Preço_de_compra']=np.nan\n",
        "df_Petr_total['Preço_de_venda']=np.nan\n",
        "\n",
        "for i in range(1,len(df_Petr_total.Sinal)):\n",
        "  if df_Petr_total['Macd'][i] > df_Petr_total['Sinal'][i]:\n",
        "    if df_Petr_total['Flag'][i-1]=='C':\n",
        "      df_Petr_total['Flag'][i]='C'\n",
        "    else:\n",
        "      df_Petr_total['Flag'][i]='C'\n",
        "      df_Petr_total['Preço_de_compra'][i] = df_Petr_total['Preço_Fechamento'][i]\n",
        "  \n",
        "  elif df_Petr_total['Macd'][i]< df_Petr_total['Sinal'][i]:\n",
        "    if df_Petr_total['Flag'][i-1] == 'V':\n",
        "      df_Petr_total['Flag'][i]='V'\n",
        "    else:\n",
        "      df_Petr_total['Flag'][i]='V'\n",
        "      df_Petr_total['Preço_de_venda'][i] = df_Petr_total['Preço_Fechamento'][i]"
      ],
      "metadata": {
        "id": "CSgjogMRTIt4"
      },
      "execution_count": null,
      "outputs": []
    },
    {
      "cell_type": "code",
      "source": [
        "\n",
        "import asyncio\n",
        "import telegram\n",
        "import nest_asyncio\n",
        "nest_asyncio.apply()\n",
        "my_token = '5759866780:AAHDIVBF1AMyOD67_wlMxknv0oy_cH6ZUJ4'\n",
        "chat_id = '-863310586'\n",
        "\n",
        "\n",
        "async def envia_msg(msg,chat_id,token = my_token):\n",
        "  bot = telegram.Bot(token = token)\n",
        "  await bot.sendMessage(chat_id = chat_id, text=msg)\n",
        "\n",
        "hoje = df_Petr_total.Flag[-1]\n",
        "ontem = df_Petr_total.Flag[-2]\n",
        "Flag = hoje\n",
        "Preço_Fechamento = round(df_Petr_total.Preço_Fechamento.tail(1)[-1],2)\n",
        "msg = f'PTR4 (Petrobras) \"{Flag}\" preço de fechamento : {Preço_Fechamento}'\n",
        "asyncio.run(envia_msg(msg,chat_id,my_token))"
      ],
      "metadata": {
        "id": "i6tpFTz7bHBv"
      },
      "execution_count": 297,
      "outputs": []
    }
  ]
}